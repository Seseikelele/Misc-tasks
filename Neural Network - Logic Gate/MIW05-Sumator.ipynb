{
 "cells": [
  {
   "cell_type": "code",
   "execution_count": 1,
   "metadata": {},
   "outputs": [],
   "source": [
    "### Sumator\n",
    "from keras.models import Sequential\n",
    "from keras.layers import Dense\n",
    "from keras.callbacks import Callback\n",
    "from keras.optimizers import SGD\n",
    "\n",
    "# MIN_ACCURACY = 0.9\n",
    "TARGET_LOSS = 0.001\n",
    "\n",
    "x_train = [\n",
    "    [0, 0, 0],\n",
    "    [1, 0, 0],\n",
    "    [0, 1, 0],\n",
    "    [1, 1, 0],\n",
    "    [0, 0, 1],\n",
    "    [1, 0, 1],\n",
    "    [0, 1, 1],\n",
    "    [1, 1, 1]\n",
    "]\n",
    "\n",
    "y_train = [\n",
    "    [0, 0],\n",
    "    [1, 0],\n",
    "    [1, 0],\n",
    "    [0, 1],\n",
    "    [1, 0],\n",
    "    [0, 1],\n",
    "    [0, 1],\n",
    "    [1, 1]\n",
    "]"
   ]
  },
  {
   "cell_type": "code",
   "execution_count": 2,
   "metadata": {},
   "outputs": [],
   "source": [
    "class FitEnough(Callback):\n",
    "    def on_epoch_end(self, epoch, logs=None):\n",
    "        if logs is None:\n",
    "            logs = dict()\n",
    "        if epoch % 250 == 0:\n",
    "            print(logs)\n",
    "#         if MIN_ACCURACY < logs.get('accuracy', 0.0):\n",
    "        if logs.get('loss') < TARGET_LOSS:\n",
    "            print(f'stopping at epoch {epoch}')\n",
    "            self.model.stop_training = True\n",
    "cb = FitEnough()"
   ]
  },
  {
   "cell_type": "code",
   "execution_count": 3,
   "metadata": {},
   "outputs": [],
   "source": [
    "optimizer = SGD(learning_rate=0.33)"
   ]
  },
  {
   "cell_type": "code",
   "execution_count": 4,
   "metadata": {},
   "outputs": [
    {
     "name": "stdout",
     "output_type": "stream",
     "text": [
      "{'loss': 0.2657473087310791, 'accuracy': 0.75, 'binary_accuracy': 0.625}\n",
      "{'loss': 0.14787229895591736, 'accuracy': 0.875, 'binary_accuracy': 0.75}\n",
      "{'loss': 0.12363238632678986, 'accuracy': 0.875, 'binary_accuracy': 0.8125}\n",
      "{'loss': 0.10481193661689758, 'accuracy': 0.875, 'binary_accuracy': 0.875}\n",
      "{'loss': 0.09222252666950226, 'accuracy': 0.875, 'binary_accuracy': 0.875}\n",
      "{'loss': 0.08472390472888947, 'accuracy': 0.875, 'binary_accuracy': 0.875}\n",
      "{'loss': 0.0794241726398468, 'accuracy': 0.875, 'binary_accuracy': 0.875}\n",
      "{'loss': 0.0752185583114624, 'accuracy': 0.875, 'binary_accuracy': 0.875}\n",
      "{'loss': 0.07191474735736847, 'accuracy': 0.875, 'binary_accuracy': 0.8125}\n",
      "{'loss': 0.06703677028417587, 'accuracy': 0.875, 'binary_accuracy': 0.9375}\n",
      "{'loss': 0.05801601707935333, 'accuracy': 0.875, 'binary_accuracy': 1.0}\n",
      "{'loss': 0.04527527838945389, 'accuracy': 0.875, 'binary_accuracy': 1.0}\n",
      "{'loss': 0.033185116946697235, 'accuracy': 0.875, 'binary_accuracy': 1.0}\n",
      "{'loss': 0.021555554121732712, 'accuracy': 0.875, 'binary_accuracy': 1.0}\n",
      "{'loss': 0.015305638313293457, 'accuracy': 0.875, 'binary_accuracy': 1.0}\n",
      "{'loss': 0.011218355968594551, 'accuracy': 0.875, 'binary_accuracy': 1.0}\n",
      "{'loss': 0.00856414157897234, 'accuracy': 0.875, 'binary_accuracy': 1.0}\n",
      "{'loss': 0.006745331920683384, 'accuracy': 0.875, 'binary_accuracy': 1.0}\n",
      "{'loss': 0.005462205968797207, 'accuracy': 0.875, 'binary_accuracy': 1.0}\n",
      "{'loss': 0.004548780620098114, 'accuracy': 0.875, 'binary_accuracy': 1.0}\n",
      "{'loss': 0.0038604240398854017, 'accuracy': 0.875, 'binary_accuracy': 1.0}\n",
      "{'loss': 0.003333151573315263, 'accuracy': 0.875, 'binary_accuracy': 1.0}\n",
      "{'loss': 0.0029214699752628803, 'accuracy': 0.875, 'binary_accuracy': 1.0}\n",
      "{'loss': 0.0025885729119181633, 'accuracy': 0.875, 'binary_accuracy': 1.0}\n",
      "{'loss': 0.002316627185791731, 'accuracy': 0.875, 'binary_accuracy': 1.0}\n",
      "{'loss': 0.0020928271114826202, 'accuracy': 0.875, 'binary_accuracy': 1.0}\n",
      "{'loss': 0.001905868062749505, 'accuracy': 0.875, 'binary_accuracy': 1.0}\n",
      "{'loss': 0.0017468052683398128, 'accuracy': 0.875, 'binary_accuracy': 1.0}\n",
      "{'loss': 0.001609467202797532, 'accuracy': 0.875, 'binary_accuracy': 1.0}\n",
      "{'loss': 0.0014910032041370869, 'accuracy': 0.875, 'binary_accuracy': 1.0}\n",
      "{'loss': 0.0013873691204935312, 'accuracy': 0.875, 'binary_accuracy': 1.0}\n",
      "{'loss': 0.0012964324560016394, 'accuracy': 0.875, 'binary_accuracy': 1.0}\n",
      "{'loss': 0.0012164739891886711, 'accuracy': 0.875, 'binary_accuracy': 1.0}\n",
      "{'loss': 0.0011448434088379145, 'accuracy': 0.875, 'binary_accuracy': 1.0}\n",
      "{'loss': 0.0010800061281770468, 'accuracy': 0.875, 'binary_accuracy': 1.0}\n",
      "{'loss': 0.0010229537729173899, 'accuracy': 0.875, 'binary_accuracy': 1.0}\n",
      "stopping at epoch 8856\n"
     ]
    }
   ],
   "source": [
    "network = Sequential()\n",
    "# 4 outputs, 3 inputs\n",
    "network.add(Dense(4, input_dim=3, activation='relu'))\n",
    "network.add(Dense(2, activation='sigmoid'))\n",
    "network.compile(optimizer=optimizer, loss='mean_squared_error', metrics=['accuracy', 'binary_accuracy'])\n",
    "history = network.fit(x_train, y_train, epochs=10000, batch_size=8, callbacks=[cb], verbose=0, shuffle=True)"
   ]
  },
  {
   "cell_type": "code",
   "execution_count": 5,
   "metadata": {},
   "outputs": [
    {
     "name": "stdout",
     "output_type": "stream",
     "text": [
      "1/1 [==============================] - 0s 58ms/step\n",
      "data: [0, 0, 0], got: [0, 0], expected: [0, 0], success: True\n",
      "data: [1, 0, 0], got: [1, 0], expected: [1, 0], success: True\n",
      "data: [0, 1, 0], got: [1, 0], expected: [1, 0], success: True\n",
      "data: [1, 1, 0], got: [0, 1], expected: [0, 1], success: True\n",
      "data: [0, 0, 1], got: [1, 0], expected: [1, 0], success: True\n",
      "data: [1, 0, 1], got: [0, 1], expected: [0, 1], success: True\n",
      "data: [0, 1, 1], got: [0, 1], expected: [0, 1], success: True\n",
      "data: [1, 1, 1], got: [1, 1], expected: [1, 1], success: True\n",
      "[[0.0391961  0.0209825 ]\n",
      " [0.96041644 0.01134697]\n",
      " [0.95951295 0.00217679]\n",
      " [0.04570562 0.9904717 ]\n",
      " [0.97821033 0.02747101]\n",
      " [0.04512164 0.99988437]\n",
      " [0.04650375 0.98558486]\n",
      " [0.9464815  0.9999989 ]]\n"
     ]
    }
   ],
   "source": [
    "# for x, y in zip(x_train, y_train):\n",
    "#     print(x)\n",
    "outputs = network.predict(x_train, batch_size=8, verbose=1)\n",
    "for x, o, y in zip(x_train, outputs, y_train):\n",
    "    oo = [round(n) for n in o]\n",
    "    print(f'data: {x}, got: {oo}, expected: {y}, success: {oo == y}')\n",
    "print(outputs)\n",
    "#     print(f'{outputs}, expected {y}')"
   ]
  },
  {
   "cell_type": "code",
   "execution_count": null,
   "metadata": {},
   "outputs": [],
   "source": [
    "# Bez ustawienia stałego seeda dla generatora liczb losowych\n",
    "# wartości początkowe sieci i ich zmiany w kolejnych epokach mogą pójść bardzo dobrze\n",
    "# lub bardzo źle\n",
    "# W szczęśliwym trafie zadowalające wyniki możemy uzyskać w 1-2 tysiące epok,\n",
    "# w nieszczęśliwym przypadku nawet po określonej przez nas liczbie epok pozostanie nam jeden lub dwa błędy przewidywania"
   ]
  }
 ],
 "metadata": {
  "kernelspec": {
   "display_name": "Python 3",
   "language": "python",
   "name": "python3"
  },
  "language_info": {
   "codemirror_mode": {
    "name": "ipython",
    "version": 3
   },
   "file_extension": ".py",
   "mimetype": "text/x-python",
   "name": "python",
   "nbconvert_exporter": "python",
   "pygments_lexer": "ipython3",
   "version": "3.8.5"
  }
 },
 "nbformat": 4,
 "nbformat_minor": 4
}
